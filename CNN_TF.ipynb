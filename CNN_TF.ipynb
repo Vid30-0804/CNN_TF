{
 "cells": [
  {
   "cell_type": "code",
   "execution_count": null,
   "id": "92c212f0-4b3b-4e19-b162-a8f09dcd38da",
   "metadata": {},
   "outputs": [],
   "source": [
    "!pip install tensorflow\n",
    "import tensorflow as tf\n",
    "from tensorflow.keras import layers, models\n",
    "from tensorflow.keras.datasets import mnist\n",
    "     "
   ]
  },
  {
   "cell_type": "code",
   "execution_count": null,
   "id": "9147fb52-eda2-4480-8bb5-63a75ebd8b07",
   "metadata": {},
   "outputs": [],
   "source": [
    "(train_images, train_labels), (test_images, test_labels)=mnist.load_data()\n"
   ]
  },
  {
   "cell_type": "code",
   "execution_count": null,
   "id": "ee535b3c-16b8-40ba-8444-3188f7bef0bf",
   "metadata": {},
   "outputs": [],
   "source": [
    "#normalize pixel values to be between 0 and 1\n",
    "train_images=train_images.astype('float32')/255.0\n",
    "test_images=test_images.astype('float32')/255.0"
   ]
  },
  {
   "cell_type": "code",
   "execution_count": null,
   "id": "fcedc4f1-c59e-4f8f-9401-15566b4b2048",
   "metadata": {},
   "outputs": [],
   "source": [
    "\n",
    "#reshape the images into the format expected by the neural network\n",
    "train_images=train_images.reshape((60000,28,28,1))\n",
    "test_images=test_images.reshape((10000,28,28,1))"
   ]
  },
  {
   "cell_type": "code",
   "execution_count": null,
   "id": "b88918f2-a4f2-4b99-af34-febc9ba1f226",
   "metadata": {},
   "outputs": [],
   "source": [
    "#encode the labels using one-hot encoding\n",
    "from tensorflow.keras.utils import to_categorical\n",
    "train_labels=to_categorical(train_labels)\n",
    "test_labels=to_categorical(test_labels)"
   ]
  },
  {
   "cell_type": "code",
   "execution_count": null,
   "id": "a9d9a17f-7b38-4806-83d6-057f03f8fe49",
   "metadata": {},
   "outputs": [],
   "source": [
    "model=models.Sequential()\n",
    "model.add(layers.Conv2D(32,(3,3),activation='relu',input_shape=(28,28,1)))\n",
    "model.add(layers.MaxPooling2D((2,2)))\n",
    "model.add(layers.Conv2D(64,(3,3),activation='relu'))\n",
    "model.add(layers.MaxPooling2D((2,2)))\n",
    "model.add(layers.Conv2D(64,(3,3),activation='relu'))\n",
    "model.add(layers.Flatten())\n",
    "model.add(layers.Dense(64,activation='relu'))\n",
    "model.add(layers.Dense(10,activation='softmax'))"
   ]
  },
  {
   "cell_type": "code",
   "execution_count": null,
   "id": "fcec2065-3a2c-416a-85c3-85276cfff742",
   "metadata": {},
   "outputs": [],
   "source": [
    "#Compile the model: Specify the loss function, optimizer, and metrics for model compilation\n",
    "#adm=Adaptive Moment Estimation\n",
    "model.compile(optimizer='adam',\n",
    "              loss='categorical_crossentropy',\n",
    "              metrics=['accuracy'])"
   ]
  },
  {
   "cell_type": "code",
   "execution_count": null,
   "id": "807739d6-538f-48d2-9b63-c6e36efc89e3",
   "metadata": {},
   "outputs": [],
   "source": [
    "#Train the Model: Train the model using the training data\n",
    "model.fit(train_images,train_labels,epochs=10,batch_size=64,validation_split=0.2)\n",
    "     "
   ]
  },
  {
   "cell_type": "code",
   "execution_count": null,
   "id": "1bc6fcf6-8a0f-40f6-9d33-20efa112ede6",
   "metadata": {},
   "outputs": [],
   "source": [
    "#evaluate the model: evaluate the trained model on the test data\n",
    "test_loss,test_acc=model.evaluate(test_images,test_labels)\n",
    "print(f'Test accuracy: {test_acc}')"
   ]
  },
  {
   "cell_type": "code",
   "execution_count": null,
   "id": "595966cd-e782-4be6-bbbe-994b6514fa4d",
   "metadata": {},
   "outputs": [],
   "source": [
    "#make predictions: use the trained model to make predictions on new data\n",
    "predictions=model.predict(test_images)"
   ]
  },
  {
   "cell_type": "code",
   "execution_count": null,
   "id": "ac1effa8-9456-4bdd-a15b-af0e0f647bbf",
   "metadata": {},
   "outputs": [],
   "source": [
    "#make predictions on the test set\n",
    "predictions=model.predict(test_images)\n",
    "\n",
    "#get the index of the class with the highest peobability for each prediction\n",
    "predicted_labels=predictions.argmax(axis=1)\n",
    "\n",
    "#display the first few predictions\n",
    "for i in range(5):\n",
    "  print(f\"Actual Label: {test_labels[i].argmax()}, Predicted Label: {predicted_labels[i]}\")\n",
    "\n",
    "#optionally, you can visualize the images and their predictions\n",
    "import matplotlib.pyplot as plt\n",
    "\n",
    "def plot_images(i,predictions_array,true_label,img):\n",
    "  predictions_array,true_label,img=predictions_array[i], true_label[i].argmax(),img[i].reshape(28,28)\n",
    "  plt.grid('FALSE')\n",
    "  plt.xticks([])\n",
    "  plt.yticks([])\n",
    "\n",
    "  plt.imshow(img,cmap=plt.cm.binary)\n",
    "\n",
    "  predicted_label=predictions_array.argmax()\n",
    "  color='blue' if predicted_label == true_label else 'red'\n",
    "\n",
    "  plt.xlabel(f\"Predicted: {predicted_label} ({100* tf.reduce_max(predictions_array):.2f}%),Actual:{true_label}\",color=color)\n",
    "\n",
    "#visualise the predictions\n",
    "num_rows=5\n",
    "num_cols=3\n",
    "num_images=num_rows*num_cols\n",
    "plt.figure(figsize=(2*2*num_cols,2*num_rows))\n",
    "for i in range(num_images):\n",
    "  plt.subplot(num_rows,2*num_cols,2*i+1)\n",
    "  plot_images(i,predictions,test_labels,test_images)\n",
    "plt.show()"
   ]
  },
  {
   "cell_type": "code",
   "execution_count": null,
   "id": "6dc8802e-5ea3-4dcf-ab6a-1a01cf9ee1c0",
   "metadata": {},
   "outputs": [],
   "source": []
  },
  {
   "cell_type": "code",
   "execution_count": null,
   "id": "f70e97ba-cad7-4f0c-b151-a76055f3e808",
   "metadata": {},
   "outputs": [],
   "source": []
  },
  {
   "cell_type": "code",
   "execution_count": null,
   "id": "52eac942-6770-445e-b0d7-5d87c95ffa11",
   "metadata": {},
   "outputs": [],
   "source": []
  },
  {
   "cell_type": "code",
   "execution_count": null,
   "id": "1093137d-23bc-4040-8112-a3febbbf41e1",
   "metadata": {},
   "outputs": [],
   "source": []
  }
 ],
 "metadata": {
  "kernelspec": {
   "display_name": "Python 3 (ipykernel)",
   "language": "python",
   "name": "python3"
  },
  "language_info": {
   "codemirror_mode": {
    "name": "ipython",
    "version": 3
   },
   "file_extension": ".py",
   "mimetype": "text/x-python",
   "name": "python",
   "nbconvert_exporter": "python",
   "pygments_lexer": "ipython3",
   "version": "3.12.4"
  }
 },
 "nbformat": 4,
 "nbformat_minor": 5
}
